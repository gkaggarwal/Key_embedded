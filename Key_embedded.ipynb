{
  "nbformat": 4,
  "nbformat_minor": 0,
  "metadata": {
    "colab": {
      "name": "Key_embedded.ipynb",
      "provenance": [],
      "collapsed_sections": []
    },
    "kernelspec": {
      "name": "python3",
      "display_name": "Python 3"
    },
    "language_info": {
      "name": "python"
    }
  },
  "cells": [
    {
      "cell_type": "code",
      "metadata": {
        "colab": {
          "base_uri": "https://localhost:8080/"
        },
        "id": "9mChyE3n8KI7",
        "outputId": "e30e71dc-6a38-472e-bb33-9753faf012dc"
      },
      "source": [
        "seq = open('sequence.dat', 'r')\n",
        "seq = seq.readlines()\n",
        "print(len(seq), len(seq[0]))\n",
        "\n",
        "key = open('key.dat', 'r')\n",
        "key = key.readlines()\n",
        "print(len(key), key)\n",
        "\n",
        "temp = open('template.dat', 'r')\n",
        "temp = temp.readlines()\n",
        "print(len(temp), temp)\n",
        "\n",
        "\n"
      ],
      "execution_count": null,
      "outputs": [
        {
          "output_type": "stream",
          "name": "stdout",
          "text": [
            "5000 1001\n",
            "1 ['00010110101100101001011100011101\\n']\n",
            "2 ['00000\\n', '00001\\n']\n"
          ]
        }
      ]
    },
    {
      "cell_type": "code",
      "metadata": {
        "id": "vO7Yauk28Mn4"
      },
      "source": [
        "#Pre - processing\n",
        "for i in range(len(seq)):\n",
        "  seq[i] = seq[i].strip()\n",
        "\n",
        "for i in range(len(temp)):\n",
        "  temp[i] = temp[i].strip()\n",
        "\n",
        "for i in range(len(key)):\n",
        "  key[i] = key[i].strip()"
      ],
      "execution_count": null,
      "outputs": []
    },
    {
      "cell_type": "code",
      "metadata": {
        "colab": {
          "base_uri": "https://localhost:8080/"
        },
        "id": "S2fE5ZUN8QB4",
        "outputId": "9a7039be-a700-47fc-9357-31c126f766d8"
      },
      "source": [
        "\n",
        "print(len(temp), temp)\n",
        "print(len(seq), seq[0])\n",
        "print(len(key), key)"
      ],
      "execution_count": null,
      "outputs": [
        {
          "output_type": "stream",
          "name": "stdout",
          "text": [
            "2 ['00000', '00001']\n",
            "5000 1101000101011010101000000000000110110100010111101010110110100110101010011000011100111000000110110010011100001111110011011100111100100100100011000001101011101001111101111100000100001100111001110001010100000011101011001101010100001011111101011110111011111101101010100010101010101000110000111010100111101011001100011000011101111100111010110100101001011001100010101010001011000110111010100111100001001101001010100001010001011011111001111110101111111101001100010110011101111010000110010100001010011001111000100111110110110011010010101011001010100111100101000000000001111110110101001011100000010011000111010001011110110111110011111111010110011111100011100101011100011000100011101100010001000101100010000001101010001100000010101100110110010010000110111010011101100110001000000011110010011111101101101001111110101100110001011111001110001110001101010001100011000111101010111011110010100100100101011101110011100001011110100110010000111100110111100011001110111111101001010100010001001110011101101001110101100100\n",
            "1 ['00010110101100101001011100011101']\n"
          ]
        }
      ]
    },
    {
      "cell_type": "code",
      "metadata": {
        "colab": {
          "base_uri": "https://localhost:8080/"
        },
        "id": "ulD3bPNP8Up5",
        "outputId": "4d679fc4-7faf-4a95-e694-4240fff8b814"
      },
      "source": [
        "final = open(\"final.dat\", 'w')\n",
        "final2 = open(\"final2.dat\", 'w')\n",
        "for t in temp:\n",
        "  tl = list(t)\n",
        "  print(t)\n",
        "  for i in range(len(seq)):\n",
        "    currseq = seq[i]\n",
        "    for k in range(len(key)):\n",
        "      currkey = key[k]\n",
        "      listseq = list(currseq)\n",
        "      length = len(tl)\n",
        "      index =0\n",
        "      keyindex=0\n",
        "      while index <= len(listseq)-length+1:\n",
        "        subseq = listseq[index:index+length]\n",
        "        if subseq == tl:\n",
        "          listseq.insert(index+length,currkey[keyindex])\n",
        "          keyindex = keyindex+1\n",
        "          if keyindex >= len(currkey):\n",
        "            final.write(\"\".join(listseq) + \"\\n\")\n",
        "            final2.write(\"Key \"+str(k)+\" Seq\"+str(i)+\" Temp\"+t+\"\\n\")\n",
        "            break\n",
        "        index = index+1\n",
        "final2.close()\n",
        "final.close()\n"
      ],
      "execution_count": null,
      "outputs": [
        {
          "output_type": "stream",
          "name": "stdout",
          "text": [
            "00000\n",
            "00001\n"
          ]
        }
      ]
    },
    {
      "cell_type": "code",
      "metadata": {
        "id": "DdDIEfcD83NT"
      },
      "source": [
        "embedded_seq = open('final.dat', 'r')\n",
        "embedded_seq = embedded_seq.readlines()\n",
        "#print(len(embedded_seq), len(embedded_seq[0]))\n",
        "#Pre - processing\n",
        "for i in range(len(embedded_seq)):\n",
        "  embedded_seq[i] = embedded_seq[i].strip()"
      ],
      "execution_count": null,
      "outputs": []
    },
    {
      "cell_type": "code",
      "metadata": {
        "colab": {
          "base_uri": "https://localhost:8080/"
        },
        "id": "ACr7aCIM9PAw",
        "outputId": "e7974668-cbf4-49f3-b9d2-b82ede3adaf6"
      },
      "source": [
        "print(len(embedded_seq), len(embedded_seq[0]))"
      ],
      "execution_count": null,
      "outputs": [
        {
          "output_type": "stream",
          "name": "stdout",
          "text": [
            "5478 1032\n"
          ]
        }
      ]
    },
    {
      "cell_type": "code",
      "metadata": {
        "colab": {
          "base_uri": "https://localhost:8080/"
        },
        "id": "ObrLIDqa9jSo",
        "outputId": "db3353e7-198c-4f78-a1c5-56053de7f5c2"
      },
      "source": [
        "import numpy as np\n",
        "from PIL import Image as im\n",
        "c=0\n",
        "temp1= embedded_seq[0:3]\n",
        "for i in temp1:\n",
        "  l = list(map(int, list(i[:])))\n",
        "  l = [x*255 for x in l]\n",
        "  conv = np.reshape(l,(43,24))\n",
        "  print(conv.shape)\n",
        "  im.fromarray(conv, mode='L').save('pic'+str(c)+'.png')\n",
        "  c= c+1"
      ],
      "execution_count": null,
      "outputs": [
        {
          "output_type": "stream",
          "name": "stdout",
          "text": [
            "(43, 24)\n",
            "(43, 24)\n",
            "(43, 24)\n"
          ]
        }
      ]
    },
    {
      "cell_type": "code",
      "metadata": {
        "id": "N6cPxS25KHgW"
      },
      "source": [
        "final = open(\"final.dat\",\"r\")\n",
        "final = final.readlines()\n",
        "final = [x[:-1] for x in final]\n",
        "\n",
        "di = dict()\n",
        "dict_file = open(\"dict.txt\",\"w\")\n",
        "for s in final:\n",
        "  di2 =dict()\n",
        "  for i in range(3, 8):\n",
        "    for id in range(0, len(s)-i+1):\n",
        "      prob = s[id:id+i] \n",
        "      if prob in di:\n",
        "        di[prob] = di[prob]+1\n",
        "      else:\n",
        "        di[prob] = 1\n",
        "      if prob in di2:\n",
        "        di2[prob] = di2[prob]+1\n",
        "      else:\n",
        "        di2[prob] = 1\n",
        "  for key in di2:\n",
        "    dict_file.write(key+\":\"+str(di2[key])+\", \")\n",
        "  dict_file.write(\"\\n\")\n",
        "\n",
        "  \n",
        "dict_file2 = open(\"dict_cumulative.txt\",\"w\")\n",
        "\n",
        "for key in di:\n",
        "  dict_file2.write(key+\":\"+str(di[key])+\"\\n\")\n",
        "\n",
        "dict_file.close()\n",
        "dict_file2.close()"
      ],
      "execution_count": null,
      "outputs": []
    }
  ]
}